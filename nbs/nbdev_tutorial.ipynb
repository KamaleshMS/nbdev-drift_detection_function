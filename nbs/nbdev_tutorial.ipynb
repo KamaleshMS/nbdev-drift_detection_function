{
 "cells": [
  {
   "cell_type": "code",
   "execution_count": null,
   "id": "4957f3b2",
   "metadata": {},
   "outputs": [],
   "source": [
    "#| hide\n",
    "# to set up auto reaload whenever changes are made in other modules\n",
    "%load_ext autoreload\n",
    "%autoreload 2\n",
    "from nbdev.showdoc import *"
   ]
  },
  {
   "cell_type": "markdown",
   "id": "93a7168f",
   "metadata": {},
   "source": [
    "# Getting Started with nbdev: A Beginner's Tutorial\n",
    "\n",
    "> Welcome to this tutorial on getting started with nbdev! In this tutorial, we will cover the basics of nbdev, a powerful tool for developing Python libraries in Jupyter notebooks. By the end of this tutorial, you'll have a good understanding of how to create, test, document, and publish your Python library using nbdev.\n",
    "\n",
    "## Table of Contents\n",
    "\n",
    "> - [Installation](#installation)\n",
    "> - [Create an Empty GitHub Repo](#create-repo)\n",
    "> - [Initialize Your Repo with nbdev](#initialize-repo)\n",
    "> - [Enable GitHub Pages](#enable-pages)\n",
    "> - [Check Out Your Workflows](#check-workflows)\n",
    "> - [Check Out Your Docs](#check-docs)\n",
    "> - [Set up Autoreload](#autoreload)\n",
    "> - [Set up Prerequisites](#prerequisites)\n",
    "> - [Make Your First Edit](#first-edit)\n",
    "> - [Edit 00_core.ipynb](#edit-core)\n",
    "> - [Add Your Own Function](#add-function)\n",
    "> - [Add Examples, Tests, and Docs](#add-examples-tests-docs)\n",
    "> - [Prepare Your Changes](#prepare-changes)\n",
    "> - [Common Errors and their Solutions](#common-errors-and-their-solutions)\n",
    "> - [Video Tutorial for nbdev Documentation](#video-tutorial)\n"
   ]
  },
  {
   "cell_type": "markdown",
   "id": "dc679073",
   "metadata": {},
   "source": [
    "## Installation <a id='installation'></a>\n",
    "\n",
    "> To get started with nbdev, you need to install a few prerequisites. Follow these steps to install the required tools and libraries:\n",
    "\n",
    "> - [Install Python](#step-1-install-python)\n",
    "> - [Choose a Python Package Manager](#step-2-choose-a-python-package-manager)\n",
    "> - [Install Jupyter Notebook](#step-3-install-jupyter-notebook)\n",
    "> - [Launch Jupyter Notebook](#step-4-launch-jupyter-notebook)"
   ]
  },
  {
   "cell_type": "markdown",
   "id": "1a483d23",
   "metadata": {},
   "source": [
    "### Install Python <a id='step-1-install-python'></a>\n",
    "> - Install Python by visiting the official Python website: [python.org](https://www.python.org/downloads/)."
   ]
  },
  {
   "cell_type": "markdown",
   "id": "7fd5a9a3",
   "metadata": {},
   "source": [
    "### A Python package manager: We recommend conda or pip <a id='step-2-choose-a-python-package-manager'></a>\n",
    "> - Choose a Python package manager based on your preferences and requirements."
   ]
  },
  {
   "cell_type": "markdown",
   "id": "43bcd736",
   "metadata": {},
   "source": [
    "### Install Jupyter Notebook <a id='step-3-install-jupyter-notebook'></a>\n",
    "> - Install Jupyter Notebook using the selected package manager:"
   ]
  },
  {
   "cell_type": "markdown",
   "id": "c648dc87",
   "metadata": {},
   "source": [
    ">> - Code Cell (for conda):"
   ]
  },
  {
   "cell_type": "code",
   "execution_count": null,
   "id": "6e450a25",
   "metadata": {},
   "outputs": [],
   "source": [
    "conda install -c conda-forge jupyterlab"
   ]
  },
  {
   "cell_type": "markdown",
   "id": "a4efec5b",
   "metadata": {},
   "source": [
    ">> - Code Cell (for pip):"
   ]
  },
  {
   "cell_type": "code",
   "execution_count": null,
   "id": "793ad470",
   "metadata": {},
   "outputs": [],
   "source": [
    "pip install jupyterlab"
   ]
  },
  {
   "cell_type": "markdown",
   "id": "b0ac513c",
   "metadata": {},
   "source": [
    "### Launch Jupyter Notebook <a id='step-4-launch-jupyter-notebook'></a>\n",
    "> Launch Jupyter Notebook by running the following command in a terminal or command prompt:"
   ]
  },
  {
   "cell_type": "code",
   "execution_count": null,
   "id": "688ed648",
   "metadata": {},
   "outputs": [],
   "source": [
    "jupyter lab"
   ]
  },
  {
   "cell_type": "markdown",
   "id": "6fddac07",
   "metadata": {},
   "source": [
    "## Installation and Setup of nbdev, Quarto\n",
    "\n",
    "> - [Install nbdev](#step-1-install-nbdev)\n",
    "> - [Set up nbdev](#step-2-set-up-nbdev)\n",
    "> - [Install Quarto](#step-3-install-quarto)\n",
    "> - [Set up Quarto with JupyterLab](#step-4-set-up-quarto-with-jupyterlab)\n"
   ]
  },
  {
   "cell_type": "markdown",
   "id": "a72782ef",
   "metadata": {},
   "source": [
    "### Install nbdev <a id='step-1-install-nbdev'></a>\n",
    "> - To begin, We start by installing nbdev, which is a Python library that provides a framework for developing libraries and documentation using Jupyter notebooks."
   ]
  },
  {
   "cell_type": "code",
   "execution_count": null,
   "id": "cf25d03e",
   "metadata": {},
   "outputs": [],
   "source": [
    "pip install nbdev"
   ]
  },
  {
   "cell_type": "markdown",
   "id": "78285b65",
   "metadata": {},
   "source": [
    "### Set up nbdev <a id='step-2-set-up-nbdev'></a>\n",
    "> - After installing nbdev, we need to set it up for our project. This involves creating the necessary folder structure and configuration files."
   ]
  },
  {
   "cell_type": "code",
   "execution_count": null,
   "id": "cf72bef6",
   "metadata": {},
   "outputs": [],
   "source": [
    "nbdev_new"
   ]
  },
  {
   "cell_type": "markdown",
   "id": "cafb1b1f",
   "metadata": {},
   "source": [
    "> - After installing nbdev, we need to set it up for our project.\n",
    "\n",
    "> - The nbdev_new command creates the necessary folder structure and configuration files for nbdev. It sets up the project with the required directories, such as docs, nbs, tests, and your_project_name.\n",
    "\n",
    "> - Make sure to replace your_project_name with the desired name for your nbdev project."
   ]
  },
  {
   "cell_type": "markdown",
   "id": "17325068",
   "metadata": {},
   "source": [
    "### Install Quarto <a id='step-3-install-quarto'></a>\n",
    "> - Quarto is a powerful publishing system for creating scientific and technical documents from Jupyter notebooks. Let's install it now."
   ]
  },
  {
   "cell_type": "code",
   "execution_count": null,
   "id": "a2768cb1",
   "metadata": {},
   "outputs": [],
   "source": [
    "pip install quarto"
   ]
  },
  {
   "cell_type": "markdown",
   "id": "2ebc0b37",
   "metadata": {},
   "source": [
    "### Set up Quarto with JupyterLab <a id='step-4-set-up-quarto-with-jupyterlab'></a>\n",
    "> - To use Quarto with JupyterLab, we need to install the JupyterLab extension for Quarto. \n",
    "\n",
    ">> - This extension integrates Quarto into JupyterLab, allowing you to create and publish documents using Quarto's features."
   ]
  },
  {
   "cell_type": "code",
   "execution_count": null,
   "id": "4e2a4999",
   "metadata": {},
   "outputs": [],
   "source": [
    "quarto install --lab"
   ]
  },
  {
   "cell_type": "markdown",
   "id": "6edf008f",
   "metadata": {},
   "source": [
    "## Create an Empty GitHub Repo <a id='create-repo'></a>\n",
    "\n",
    "> Before we start working on our nbdev project, we need to create an empty GitHub repository to hold our code and documentation. Follow these steps to create a new GitHub repository:\n",
    "\n",
    ">> - Open the [GitHub web interface](https://github.com/new) in your browser and log in to your account.\n",
    "\n",
    ">> - Click on the \"+\" icon in the top-right corner and select \"New repository\" from the dropdown menu.\n",
    "\n",
    ">> - Enter a name for your repository and an optional description.\n",
    "\n",
    ">> - Choose whether you want the repository to be public or private.\n",
    "\n",
    ">> - Leave the \"Initialize this repository with a README\" option unchecked.\n",
    "\n",
    ">> - Click the \"Create repository\" button to create the empty repository.\n",
    "\n",
    ">> - If you still find it difficult, can refer github's [create new repo](https://docs.github.com/en/get-started/quickstart/create-a-repo) page."
   ]
  },
  {
   "cell_type": "markdown",
   "id": "5e85cb98",
   "metadata": {},
   "source": [
    "![If you’re using the web interface, it should look something like this (with your own repository name and descrpition) before you click “Create Repository”:](github-create-new-repo.png)"
   ]
  },
  {
   "cell_type": "markdown",
   "id": "78c0c9cb",
   "metadata": {},
   "source": [
    "## Initialize Your Repo with nbdev <a id='initialize-repo'></a>\n",
    "\n",
    "> Now that we have created the GitHub repository, let's initialize it with nbdev. Follow these steps to initialize your repository:\n",
    "\n",
    ">> - Open a terminal or command prompt on your local machine.\n",
    "\n",
    ">> - Navigate to the directory where you want to clone the GitHub repository.\n",
    "\n",
    ">> - Run the following command to clone the repository:\n"
   ]
  },
  {
   "cell_type": "code",
   "execution_count": null,
   "id": "ee2ca471",
   "metadata": {},
   "outputs": [],
   "source": [
    "# Run the following command to clone the repository:\n",
    "git clone <repository_url>"
   ]
  },
  {
   "cell_type": "code",
   "execution_count": null,
   "id": "44c4e1d8",
   "metadata": {},
   "outputs": [],
   "source": [
    "# Change to the directory of your cloned repository:\n",
    "cd <repository_directory>"
   ]
  },
  {
   "cell_type": "markdown",
   "id": "4bed281f",
   "metadata": {},
   "source": [
    "> This cell changes the working directory to the directory where you have cloned your repository. Replace <repository_directory> with the actual directory path."
   ]
  },
  {
   "cell_type": "code",
   "execution_count": null,
   "id": "ea71cda5",
   "metadata": {},
   "outputs": [],
   "source": [
    "# Initialize your repository with nbdev using the following command:\n",
    "nbdev_new <project_name>"
   ]
  },
  {
   "cell_type": "markdown",
   "id": "949f82fc",
   "metadata": {},
   "source": [
    "> This cell initializes your repository with nbdev. Replace <project_name> with the desired name for your project. This command creates the necessary files and folder structure for your nbdev project."
   ]
  },
  {
   "cell_type": "markdown",
   "id": "48147deb",
   "metadata": {},
   "source": [
    "> - nbdev_new assumes that your package name is the same as your repo name (with - replaced by _). Use the --lib_name option if that isn’t the case."
   ]
  },
  {
   "cell_type": "markdown",
   "id": "ddcf657c",
   "metadata": {},
   "source": [
    "> -  Double-check your settings.ini file to ensure that it has all of the correct information."
   ]
  },
  {
   "cell_type": "markdown",
   "id": "a8e3bba4",
   "metadata": {},
   "source": [
    "![You will be now redirected to your new repo.](github-repo-empty.png)"
   ]
  },
  {
   "cell_type": "markdown",
   "id": "af794b21",
   "metadata": {},
   "source": [
    "> - Then commit and push your additions to GitHub:"
   ]
  },
  {
   "cell_type": "markdown",
   "id": "5e2006fa",
   "metadata": {},
   "source": [
    "## Enable GitHub Pages <a id='enable-pages'></a>\n",
    "\n",
    "> To enable GitHub Pages for your repository, follow these steps:\n",
    "\n",
    ">> - Go to your repository's \"Settings\" tab.\n",
    "\n",
    ">> - Scroll down to the \"GitHub Pages\" section.\n",
    "\n",
    ">> - Under \"Source\", select the \"gh-pages\" branch from the dropdown menu.\n",
    "\n",
    ">> - Click the \"Save\" button.\n",
    "\n",
    ">> - GitHub will build your pages and provide you with a URL where you can access your documentation.\n"
   ]
  },
  {
   "cell_type": "markdown",
   "id": "d22962ec",
   "metadata": {},
   "source": [
    "![You need to enable GitHub Pages for your repo by following the above steps.](github-enable-pages.png)"
   ]
  },
  {
   "cell_type": "markdown",
   "id": "08d902bf",
   "metadata": {},
   "source": [
    "## Check Out Your Workflows <a id='check-workflows'></a>\n",
    "\n",
    "> nbdev includes predefined workflows for continuous integration (CI) and deploying your documentation to GitHub Pages. The \"CI\" workflow runs tests and linters on your code whenever you push changes to your repository. The \"Deploy to GitHub Pages\" workflow builds and deploys your documentation to GitHub Pages.Let's check out these workflows:\n",
    "\n",
    ">> - Open the \"Actions\" tab in your repository on GitHub.\n",
    "\n",
    ">> - You will see two workflows: \"CI\" and \"Deploy to GitHub Pages\".\n",
    "\n"
   ]
  },
  {
   "cell_type": "markdown",
   "id": "69c469d6",
   "metadata": {},
   "source": [
    "![You need to check out your workflows by following the above steps.](github-actions-initial.png)"
   ]
  },
  {
   "cell_type": "markdown",
   "id": "d4b9fb1a",
   "metadata": {},
   "source": [
    "## Check Out Your Docs <a id='check-docs'></a>\n",
    "\n",
    "> Once the \"Deploy to GitHub Pages\" workflow has completed successfully, you can check out your documentation:\n",
    "\n",
    ">> - Wait for the \"pages build and deployment\" workflow to complete. You can monitor the progress in the \"Actions\" tab.\n",
    "\n",
    ">> - Once the workflow is finished, open your website using the provided URL. This is the URL where your documentation is hosted. You should see your documentation website with the initial content generated by nbdev.\n"
   ]
  },
  {
   "cell_type": "markdown",
   "id": "11ccb72a",
   "metadata": {},
   "source": [
    "![You need to check out your docs by following the above steps.](github-actions-pages.png)"
   ]
  },
  {
   "cell_type": "markdown",
   "id": "6eb9600d",
   "metadata": {},
   "source": [
    "![Wait for the workflow run to complete, then open your website. By default it should be available at: https://{user}.github.io/{repo}](nbdev-hello-world-site-initial.png)"
   ]
  },
  {
   "cell_type": "markdown",
   "id": "f83cd8f7",
   "metadata": {},
   "source": [
    "## Set up Autoreload <a id='autoreload'></a>\n",
    "> Since you’ll be often updating your modules from one notebook, and using them in another, it’s helpful if your notebook automatically reads in the new modules as soon as the Python file changes. To make this happen, just add these lines to the top of your notebook:"
   ]
  },
  {
   "cell_type": "code",
   "execution_count": null,
   "id": "59e6be2f",
   "metadata": {},
   "outputs": [],
   "source": [
    "%load_ext autoreload\n",
    "%autoreload 2"
   ]
  },
  {
   "cell_type": "markdown",
   "id": "e19943a7",
   "metadata": {},
   "source": [
    "## Set up Prerequisites <a id='prerequisites'></a>\n",
    "> If your module requires other modules as dependencies, you can add those prerequisites to your settings.ini in the requirements section. The requirements should be separated by a space and if the module requires at least or at most a specific version of the requirement this may be specified here, too."
   ]
  },
  {
   "cell_type": "markdown",
   "id": "efdcdae2",
   "metadata": {},
   "source": [
    "![You have to cross check whether the required packages along with their version is mentioned in the requirements of settings.ini file.](Settings_ini.png)"
   ]
  },
  {
   "cell_type": "markdown",
   "id": "d74f32cc",
   "metadata": {},
   "source": [
    "## Make Your First Edit <a id='first-edit'></a>\n",
    "\n",
    "> Now, let's make our first edit to the documentation and see how it updates.\n",
    "\n",
    ">> - Install nbdev's hooks by running the following command in your terminal or command prompt:\n"
   ]
  },
  {
   "cell_type": "code",
   "execution_count": null,
   "id": "6b46d05a",
   "metadata": {},
   "outputs": [],
   "source": [
    "# Run the following command to install nbdev's hooks:\n",
    "nbdev_install_hooks"
   ]
  },
  {
   "cell_type": "markdown",
   "id": "000f5910",
   "metadata": {},
   "source": [
    "> The nbdev_install_hooks command is used to install nbdev's Git hooks in your local repository. Git hooks are scripts that are automatically executed at specific points during the Git workflow.\n",
    "\n",
    "> - By installing nbdev's Git hooks, you can automate certain checks and validations before committing or pushing changes to your repository. The pre-commit hook ensures that checks like linting, code formatting, and notebook validation are performed before a commit is made. This helps maintain code quality and ensures that your project adheres to certain standards."
   ]
  },
  {
   "cell_type": "code",
   "execution_count": null,
   "id": "66d576f0",
   "metadata": {},
   "outputs": [],
   "source": [
    "nbdev_build_lib"
   ]
  },
  {
   "cell_type": "markdown",
   "id": "140784fa",
   "metadata": {},
   "source": [
    "> This code cell builds the Python library from the Jupyter notebooks in your project. It converts the notebooks into Python modules and places them in the appropriate directory. It also generates an __init__.py file that allows you to import your library's functions as modules."
   ]
  },
  {
   "cell_type": "code",
   "execution_count": null,
   "id": "21ce45a4",
   "metadata": {},
   "outputs": [],
   "source": [
    "# Use the nbdev_export command to create Python modules for your notebooks:\n",
    "nbdev_export"
   ]
  },
  {
   "cell_type": "markdown",
   "id": "0e19b2fd",
   "metadata": {},
   "source": [
    "> This code cell runs the nbdev_export command, which creates Python modules for your notebooks. This command converts your notebook code cells into Python modules that can be imported and used by other users of your library."
   ]
  },
  {
   "cell_type": "code",
   "execution_count": null,
   "id": "b2603038",
   "metadata": {},
   "outputs": [],
   "source": [
    "# Install your package using pip:\n",
    "pip install -e '.[dev]'"
   ]
  },
  {
   "cell_type": "markdown",
   "id": "fe899f9d",
   "metadata": {},
   "source": [
    "> This code cell installs your package using the pip install -e command. The -e flag allows you to install the package in editable mode, which means any changes you make to the code will be immediately reflected without needing to reinstall."
   ]
  },
  {
   "cell_type": "code",
   "execution_count": null,
   "id": "044b0895",
   "metadata": {},
   "outputs": [],
   "source": [
    "nbdev_build_docs"
   ]
  },
  {
   "cell_type": "markdown",
   "id": "0391548b",
   "metadata": {},
   "source": [
    "> The nbdev_build_docs helps you ensure that your documentation is up to date with the latest changes in your notebooks. It allows you to review the documentation, make any necessary adjustments, and provide a good resource for users to refer to when working with your library or package."
   ]
  },
  {
   "cell_type": "code",
   "execution_count": null,
   "id": "af1f784c",
   "metadata": {},
   "outputs": [],
   "source": [
    "# Start the preview of your docs using nbdev:\n",
    "nbdev_preview"
   ]
  },
  {
   "cell_type": "markdown",
   "id": "607a228f",
   "metadata": {},
   "source": [
    "> This code cell starts the preview of your documentation using the nbdev_preview command. This command launches a local web server that allows you to preview your documentation in a web browser."
   ]
  },
  {
   "cell_type": "markdown",
   "id": "e56461ba",
   "metadata": {},
   "source": [
    "## Edit 00_core.ipynb <a id='edit-core'></a>\n",
    "\n",
    "> Let's now make an edit to the `00_core.ipynb` notebook, which is the main notebook of our library.\n",
    "\n",
    ">> - Open the `00_core.ipynb` file in Jupyter Notebook.\n",
    "\n",
    ">> - Update the notebook metadata and default export module according to your library's needs.\n",
    "\n",
    ">> - Save the notebook and rerun all cells to export the modules. Your changes will be reflected in the generated Python modules and documentation.\n"
   ]
  },
  {
   "cell_type": "markdown",
   "id": "7a1f5db4",
   "metadata": {},
   "source": [
    "## Add Your Own Function <a id='add-function'></a>\n",
    "\n",
    "> Let's add a new function to our library. Follow these steps:\n",
    "\n",
    ">> - Add a new code cell in the `00_core.ipynb` notebook.\n",
    "\n",
    ">> - Define your function in the code cell.\n",
    "\n",
    ">> - Use the `#| export` directive to specify that this function should be exported.\n",
    "\n",
    ">> - Save the notebook and rerun all cells to update the modules. Your new function will be available in the generated Python modules and can be imported and used by other users of your library.\n"
   ]
  },
  {
   "cell_type": "markdown",
   "id": "7083cb52",
   "metadata": {},
   "source": [
    "## Add Examples, Tests, and Docs <a id='add-examples-tests-docs'></a>\n",
    "\n",
    "> It's important to provide examples, tests, and documentation for your library. Follow these steps:\n",
    "\n",
    ">> - Add regular code cells below your function's code cell to provide examples of how to use the function.\n",
    "\n",
    ">> - Add test cells using assertions or the `fastcore.test` functions to test your function's behavior.\n",
    "\n",
    ">> - Include plots, images, or widgets in your examples if desired.\n",
    "\n",
    ">> - Save the notebook and rerun all cells to update the modules and documentation. Your examples, tests, and documentation will be included in the generated Python modules and documentation.\n"
   ]
  },
  {
   "cell_type": "code",
   "execution_count": null,
   "id": "426e9e46",
   "metadata": {},
   "outputs": [],
   "source": [
    "#| example\n",
    "def calculate_total_cost(item_price: float, # The price of a single item.\n",
    "                         quantity: int, # The quantity of items.  \n",
    "                         discount: float = 0, # The discount rate as a decimal value. Defaults to 0.\n",
    "                         tax_rate: float = 0, # The tax rate as a decimal value. Defaults to 0.\n",
    "                        ) -> float: # The total cost of the items, including any applicable discount and tax.\n",
    "    \"\"\"\n",
    "    Calculate the total cost of an item or items, taking into account the quantity, discount, and tax rate.\n",
    "\n",
    "    Raises:\n",
    "        ValueError: If item_price or quantity is negative.\n",
    "\n",
    "    \"\"\"\n",
    "    if item_price < 0 or quantity < 0:\n",
    "        raise ValueError(\"Item price and quantity must be non-negative.\")\n",
    "\n",
    "    subtotal = item_price * quantity\n",
    "    total_discount = subtotal * discount\n",
    "    total_tax = subtotal * tax_rate\n",
    "\n",
    "    total_cost = subtotal - total_discount + total_tax\n",
    "    return total_cost\n",
    "\n"
   ]
  },
  {
   "cell_type": "code",
   "execution_count": null,
   "id": "3bbfcec1",
   "metadata": {},
   "outputs": [],
   "source": [
    "#| export\n",
    "def calculate_total_cost(item_price: float, # The price of a single item.\n",
    "                         quantity: int, # The quantity of items.  \n",
    "                         discount: float = 0, # The discount rate as a decimal value. Defaults to 0.\n",
    "                         tax_rate: float = 0, # The tax rate as a decimal value. Defaults to 0.\n",
    "                        ) -> float: # The total cost of the items, including any applicable discount and tax.\n",
    "    \"\"\"\n",
    "    Calculate the total cost of an item or items, taking into account the quantity, discount, and tax rate.\n",
    "\n",
    "    Raises:\n",
    "        ValueError: If item_price or quantity is negative.\n",
    "\n",
    "    \"\"\"\n",
    "    if item_price < 0 or quantity < 0:\n",
    "        raise ValueError(\"Item price and quantity must be non-negative.\")\n",
    "\n",
    "    subtotal = item_price * quantity\n",
    "    total_discount = subtotal * discount\n",
    "    total_tax = subtotal * tax_rate\n",
    "\n",
    "    total_cost = subtotal - total_discount + total_tax\n",
    "    return total_cost"
   ]
  },
  {
   "cell_type": "code",
   "execution_count": null,
   "id": "e1f12a7b",
   "metadata": {},
   "outputs": [],
   "source": [
    "#| example\n",
    "# Example usage\n",
    "item_price = 10.99\n",
    "quantity = 5\n",
    "discount = 0.1\n",
    "tax_rate = 0.08\n",
    "\n",
    "total_cost = calculate_total_cost(item_price, quantity, discount, tax_rate)\n",
    "total_cost"
   ]
  },
  {
   "cell_type": "markdown",
   "id": "3e16fe2e",
   "metadata": {},
   "source": [
    "## Prepare Your Changes <a id='prepare-changes'></a>\n",
    "\n",
    "> Before committing your changes, it's a good practice to run the `nbdev_prepare` command in the terminal or command prompt. This command performs several tasks to prepare your repository:\n",
    "\n",
    ">> - Builds the `.py` modules from the notebooks.\n",
    "\n",
    ">> - Runs tests on the notebooks.\n",
    "\n",
    ">> - Cleans the notebooks.\n",
    "\n",
    ">> - Updates the `README.md` file with the contents of the `index.ipynb` notebook.\n",
    "\n",
    ">> Run the following command to prepare your changes:\n"
   ]
  },
  {
   "cell_type": "code",
   "execution_count": null,
   "id": "54c5a534",
   "metadata": {},
   "outputs": [],
   "source": [
    "# Run the following command to prepare your changes:\n",
    "nbdev_prepare"
   ]
  },
  {
   "cell_type": "markdown",
   "id": "1cb7e718",
   "metadata": {},
   "source": [
    "> This code cell runs the nbdev_prepare command in the terminal or command prompt. This command performs several actions, including building the .py modules, testing the notebooks, cleaning the notebooks, and updating the README.md file."
   ]
  },
  {
   "cell_type": "markdown",
   "id": "5a8d940d",
   "metadata": {},
   "source": [
    "> - The nbdev_prepare command performs a series of tasks to prepare your nbdev project for a commit. It ensures that your project is in a clean and organized state before you push your changes to the remote repository. The nbdev_prepare command includes the following commands:"
   ]
  },
  {
   "cell_type": "markdown",
   "id": "e318704d",
   "metadata": {},
   "source": [
    ">> - nbdev_build_lib: This command converts the Jupyter notebooks in your project into Python modules. It creates .py files for each notebook and places them in the appropriate project directories. This step is crucial for making your code accessible as importable modules.\n",
    "\n",
    ">> - nbdev_clean_nbs: This command removes unnecessary metadata from your Jupyter notebooks. It cleans up the notebooks by removing execution counts, cell outputs, and other metadata that is not relevant for code distribution or documentation. This step helps keep your notebooks clean and focused on the code and documentation content.\n",
    "\n",
    ">> - nbdev_diff_nbs: This command compares the notebook code cells with the corresponding Python modules to detect any inconsistencies. It identifies any code changes in the notebooks that have not been reflected in the Python modules. This step helps ensure that your code is synchronized between the notebooks and the modules.\n",
    "\n",
    ">> - nbdev_fix_merge: This command helps resolve merge conflicts that may arise when working with notebooks and modules in a collaborative environment. It applies the necessary fixes to merge conflicts, allowing you to reconcile changes from different branches or contributors.\n",
    "\n",
    ">> - nbdev_install_git_hooks: This command installs Git hooks in your project repository. Git hooks are scripts that are executed at specific points in the Git workflow, such as before committing or before pushing. These hooks can perform actions like running tests, linting code, or checking for code formatting. Installing Git hooks helps automate these checks and ensures that code quality standards are maintained.\n",
    "\n",
    "> - By running the nbdev_prepare command, you ensure that your project is properly built, cleaned, and synchronized, and that it adheres to the necessary Git workflow and quality checks. It sets your project up for a successful commit and push to the remote repository."
   ]
  },
  {
   "cell_type": "code",
   "execution_count": null,
   "id": "e636bf0f",
   "metadata": {},
   "outputs": [],
   "source": [
    "# Commit your changes using Git:\n",
    "git add .\n",
    "git commit -m \"Add my new function and examples\""
   ]
  },
  {
   "cell_type": "code",
   "execution_count": null,
   "id": "e94f5b25",
   "metadata": {},
   "outputs": [],
   "source": [
    "# Push your changes to GitHub:\n",
    "git push origin main"
   ]
  },
  {
   "cell_type": "markdown",
   "id": "1ff4b2f6",
   "metadata": {},
   "source": [
    "> This code cell performs the Git commands to commit and push your changes to the remote repository. It adds all the modified files (git add .), commits the changes with a message (git commit -m \"Update documentation\"), and pushes the changes to the main branch of the remote repository (git push origin main)."
   ]
  },
  {
   "cell_type": "markdown",
   "id": "d0be8011",
   "metadata": {},
   "source": [
    "> - After pushing your changes, three actions will be performed: deployment, CI, and GitHub Pages. \n",
    "\n",
    "> - If all three actions are successful, your commit is successful, and you can view your deployment at the provided URL.\n",
    "\n",
    "> - Common errors that could be encountered include the \"No module found\" error, which happens when a developer forgets to add dependencies in the settings.ini file. Make sure to double-check and update the settings.ini file with the required dependencies for your project. It's highlighted in the settings.ini image above. "
   ]
  },
  {
   "cell_type": "markdown",
   "id": "97c1de43",
   "metadata": {},
   "source": [
    "## Common Errors and their Solutions <a id='common-errors-and-their-solutions'></a>"
   ]
  },
  {
   "cell_type": "markdown",
   "id": "e2902ac7",
   "metadata": {},
   "source": [
    "> Here are a few common errors that you may encounter while working on documentation using nbdev, along with their solutions:\n",
    "\n",
    "> - Import Errors: This error occurs when you try to import a module or function that is not properly defined or not present in the generated Python modules. It can happen if you forget to add the #| export directive to the code cell containing the function or if there is a typo in the import statement.\n",
    "\n",
    ">> - Solution: Double-check that the code cell defining the function has the #| export directive. Also, verify that the import statement in the notebook or in other modules is correctly referencing the function from the generated Python modules.\n",
    "\n",
    "> - Build Failures: Sometimes, during the nbdev_build_lib step, you may encounter build failures due to syntax errors, unresolved dependencies, or incompatible code.\n",
    "\n",
    ">> - Solution: Review the error message to identify the cause of the build failure. Check for syntax errors in your code, ensure that all required dependencies are specified in the settings.ini file, and resolve any compatibility issues. Once you fix the errors, run nbdev_build_lib again.\n",
    "\n",
    "> - Documentation Formatting Issues: If you encounter issues with the formatting of your generated documentation, such as incorrect rendering of Markdown cells, missing sections, or broken links, it could be due to incorrect formatting or missing metadata in the notebooks.\n",
    "\n",
    ">> - Solution: Review your notebooks and ensure that the Markdown cells are properly formatted with appropriate headings, bullet points, and links. Verify that the notebook metadata, such as toc, title, and keywords, are correctly specified. Rerun the necessary cells or notebooks to regenerate the documentation with the correct formatting.\n",
    "\n",
    "> - Failure in Tests: If your tests fail during the nbdev_test_nbs step, it means that the code in your notebooks is not producing the expected output or behavior.\n",
    "\n",
    ">> - Solution: Review the failed tests and the associated error messages to identify the cause of the failure. Check your code for logical errors, incorrect calculations, or missing assertions. Modify your code or test cases accordingly until the tests pass successfully.\n",
    "\n",
    "> - GitHub Action Workflow Errors: While working with GitHub Actions, you may encounter errors related to workflow setup, configuration, or dependency management.\n",
    "\n",
    ">> - Solution: Review the workflow files (usually located in the .github/workflows directory) and ensure that the configurations are correct. Check for any typos, missing dependencies, or incorrect setup steps. Additionally, refer to the GitHub Actions documentation for troubleshooting guidance specific to your issue.\n",
    "\n",
    "> Remember that thorough testing, careful code review, and attention to detail can help you avoid many common errors. If you encounter any issues, don't hesitate to refer to the nbdev documentation."
   ]
  },
  {
   "cell_type": "markdown",
   "id": "7787989a",
   "metadata": {},
   "source": [
    "## Video Tutorial for nbdev Documentation <a id='video-tutorial'></a>"
   ]
  },
  {
   "cell_type": "markdown",
   "id": "a96881dd",
   "metadata": {},
   "source": [
    "<iframe width=\"560\" height=\"315\" src=\"https://www.youtube.com/embed/l7zS8Ld4_iA\" title=\"YouTube video player\" frameborder=\"0\" allow=\"accelerometer; autoplay; clipboard-write; encrypted-media; gyroscope; picture-in-picture; web-share\" allowfullscreen></iframe>"
   ]
  },
  {
   "cell_type": "code",
   "execution_count": null,
   "id": "743d2485",
   "metadata": {},
   "outputs": [],
   "source": [
    "#| hide\n",
    "import nbdev; nbdev.nbdev_export()"
   ]
  },
  {
   "cell_type": "markdown",
   "id": "410d463b",
   "metadata": {},
   "source": [
    "> #| hide is a directive (like #| default_exp) which excludes a cell from both your exported module and docs\n",
    "\n",
    "> nbdev_export is the command used to export your notebooks to Python modules."
   ]
  },
  {
   "cell_type": "code",
   "execution_count": null,
   "id": "9e072d09",
   "metadata": {},
   "outputs": [],
   "source": []
  }
 ],
 "metadata": {
  "kernelspec": {
   "display_name": "python3",
   "language": "python",
   "name": "python3"
  }
 },
 "nbformat": 4,
 "nbformat_minor": 5
}
