{
 "cells": [
  {
   "cell_type": "code",
   "execution_count": null,
   "id": "4d958dc0",
   "metadata": {},
   "outputs": [],
   "source": [
    "#| hide\n",
    "# to set up auto reaload whenever changes are made in other modules\n",
    "%load_ext autoreload\n",
    "%autoreload 2"
   ]
  },
  {
   "cell_type": "code",
   "execution_count": null,
   "id": "78a28f0a",
   "metadata": {},
   "outputs": [],
   "source": [
    "#| hide\n",
    "from nbdev.showdoc import *"
   ]
  },
  {
   "cell_type": "markdown",
   "id": "647ccf83",
   "metadata": {},
   "source": [
    "# Getting Started with nbdev: A Beginner's Tutorial\n",
    "\n",
    "> Welcome to this tutorial on getting started with nbdev! In this tutorial, we will cover the basics of nbdev, a powerful tool for developing Python libraries in Jupyter notebooks. By the end of this tutorial, you'll have a good understanding of how to create, test, document, and publish your Python library using nbdev.\n",
    "\n",
    "## Table of Contents\n",
    "\n",
    "> - [Installation](#installation)\n",
    "> - [Create an Empty GitHub Repo](#create-repo)\n",
    "> - [Initialize Your Repo with nbdev](#initialize-repo)\n",
    "> - [Enable GitHub Pages](#enable-pages)\n",
    "> - [Check Out Your Workflows](#check-workflows)\n",
    "> - [Check Out Your Docs](#check-docs)\n",
    "> - [Make Your First Edit](#first-edit)\n",
    "> - [Edit 00_core.ipynb](#edit-core)\n",
    "> - [Add Your Own Function](#add-function)\n",
    "> - [Add Examples, Tests, and Docs](#add-examples-tests-docs)\n",
    "> - [Prepare Your Changes](#prepare-changes)\n",
    "> - [Conclusion](#conclusion)\n"
   ]
  },
  {
   "cell_type": "markdown",
   "id": "05490ffe",
   "metadata": {},
   "source": [
    "## Installation <a id='installation'></a>\n",
    "\n",
    "> To get started with nbdev, you need to install a few prerequisites. Follow these steps to install the required tools and libraries:\n",
    "\n",
    "> - [Install Python](#step-1-install-python)\n",
    "> - [Choose a Python Package Manager](#step-2-choose-a-python-package-manager)\n",
    "> - [Install Jupyter Notebook](#step-3-install-jupyter-notebook)\n",
    "> - [Launch Jupyter Notebook](#step-4-launch-jupyter-notebook)"
   ]
  },
  {
   "cell_type": "markdown",
   "id": "94e636a8",
   "metadata": {},
   "source": [
    "### Install Python <a id='step-1-install-python'></a>\n",
    ">Install Python by visiting the official Python website: [python.org](https://www.python.org/downloads/)."
   ]
  },
  {
   "cell_type": "markdown",
   "id": "c9053fc6",
   "metadata": {},
   "source": [
    "### A Python package manager: We recommend conda or pip <a id='step-2-choose-a-python-package-manager'></a>\n",
    ">Choose a Python package manager based on your preferences and requirements."
   ]
  },
  {
   "cell_type": "markdown",
   "id": "fb337ad3",
   "metadata": {},
   "source": [
    "### Install Jupyter Notebook <a id='step-3-install-jupyter-notebook'></a>\n",
    ">Install Jupyter Notebook using the selected package manager:"
   ]
  },
  {
   "cell_type": "markdown",
   "id": "372139a8",
   "metadata": {},
   "source": [
    ">Code Cell (for conda):\n",
    "\n",
    "> #### conda install -c conda-forge jupyterlab"
   ]
  },
  {
   "cell_type": "markdown",
   "id": "4cd7daeb",
   "metadata": {},
   "source": [
    ">Code Cell (for pip):\n",
    "\n",
    "> - \"%\" and \"!\" are magic commands.\n",
    "\n",
    "> - By using %pip as a magic command, you can execute the pip command directly within the notebook. This will install the required packages without generating errors.\n",
    "\n",
    "> - You can also use other magic commands like %cd to change the working directory, %ls to list files in a directory, %mkdir to create a new directory, and so on. These magic commands allow you to mimic terminal commands within a notebook environment.\n",
    "\n",
    "> - If you are using terminal to execute these commands dont use any of the magic commands at the start of the command."
   ]
  },
  {
   "cell_type": "code",
   "execution_count": null,
   "id": "d6a598fb",
   "metadata": {},
   "outputs": [
    {
     "name": "stdout",
     "output_type": "stream",
     "text": [
      "Requirement already satisfied: jupyterlab in c:\\users\\91637\\appdata\\local\\programs\\python\\python38\\lib\\site-packages (3.4.8)\n",
      "Requirement already satisfied: nbclassic in c:\\users\\91637\\appdata\\local\\programs\\python\\python38\\lib\\site-packages (from jupyterlab) (0.4.5)\n",
      "Requirement already satisfied: ipython in c:\\users\\91637\\appdata\\local\\programs\\python\\python38\\lib\\site-packages (from jupyterlab) (8.5.0)\n",
      "Requirement already satisfied: jupyter-server~=1.16 in c:\\users\\91637\\appdata\\local\\programs\\python\\python38\\lib\\site-packages (from jupyterlab) (1.21.0)\n",
      "Requirement already satisfied: tornado>=6.1.0 in c:\\users\\91637\\appdata\\local\\programs\\python\\python38\\lib\\site-packages (from jupyterlab) (6.3.1)\n",
      "Requirement already satisfied: notebook<7 in c:\\users\\91637\\appdata\\local\\programs\\python\\python38\\lib\\site-packages (from jupyterlab) (6.5.1)\n",
      "Requirement already satisfied: tomli in c:\\users\\91637\\appdata\\local\\programs\\python\\python38\\lib\\site-packages (from jupyterlab) (2.0.1)\n",
      "Requirement already satisfied: jupyter-core in c:\\users\\91637\\appdata\\local\\programs\\python\\python38\\lib\\site-packages (from jupyterlab) (4.11.1)\n",
      "Requirement already satisfied: jinja2>=2.1 in c:\\users\\91637\\appdata\\local\\programs\\python\\python38\\lib\\site-packages (from jupyterlab) (3.1.2)\n",
      "Requirement already satisfied: jupyterlab-server~=2.10 in c:\\users\\91637\\appdata\\local\\programs\\python\\python38\\lib\\site-packages (from jupyterlab) (2.16.0)\n",
      "Requirement already satisfied: packaging in c:\\users\\91637\\appdata\\local\\programs\\python\\python38\\lib\\site-packages (from jupyterlab) (21.3)\n",
      "Requirement already satisfied: MarkupSafe>=2.0 in c:\\users\\91637\\appdata\\local\\programs\\python\\python38\\lib\\site-packages (from jinja2>=2.1->jupyterlab) (2.1.1)\n",
      "Requirement already satisfied: pywinpty in c:\\users\\91637\\appdata\\local\\programs\\python\\python38\\lib\\site-packages (from jupyter-server~=1.16->jupyterlab) (2.0.8)\n",
      "Requirement already satisfied: argon2-cffi in c:\\users\\91637\\appdata\\local\\programs\\python\\python38\\lib\\site-packages (from jupyter-server~=1.16->jupyterlab) (21.3.0)\n",
      "Requirement already satisfied: websocket-client in c:\\users\\91637\\appdata\\local\\programs\\python\\python38\\lib\\site-packages (from jupyter-server~=1.16->jupyterlab) (1.4.1)\n",
      "Requirement already satisfied: prometheus-client in c:\\users\\91637\\appdata\\local\\programs\\python\\python38\\lib\\site-packages (from jupyter-server~=1.16->jupyterlab) (0.15.0)\n",
      "Requirement already satisfied: Send2Trash in c:\\users\\91637\\appdata\\local\\programs\\python\\python38\\lib\\site-packages (from jupyter-server~=1.16->jupyterlab) (1.8.0)\n",
      "Requirement already satisfied: pyzmq>=17 in c:\\users\\91637\\appdata\\local\\programs\\python\\python38\\lib\\site-packages (from jupyter-server~=1.16->jupyterlab) (24.0.1)\n",
      "Requirement already satisfied: traitlets>=5.1 in c:\\users\\91637\\appdata\\roaming\\python\\python38\\site-packages (from jupyter-server~=1.16->jupyterlab) (5.1.0)\n",
      "Requirement already satisfied: anyio<4,>=3.1.0 in c:\\users\\91637\\appdata\\local\\programs\\python\\python38\\lib\\site-packages (from jupyter-server~=1.16->jupyterlab) (3.6.1)\n",
      "Requirement already satisfied: nbformat>=5.2.0 in c:\\users\\91637\\appdata\\local\\programs\\python\\python38\\lib\\site-packages (from jupyter-server~=1.16->jupyterlab) (5.7.0)\n",
      "Requirement already satisfied: jupyter-client>=6.1.12 in c:\\users\\91637\\appdata\\local\\programs\\python\\python38\\lib\\site-packages (from jupyter-server~=1.16->jupyterlab) (7.4.2)\n",
      "Requirement already satisfied: terminado>=0.8.3 in c:\\users\\91637\\appdata\\local\\programs\\python\\python38\\lib\\site-packages (from jupyter-server~=1.16->jupyterlab) (0.16.0)\n",
      "Requirement already satisfied: nbconvert>=6.4.4 in c:\\users\\91637\\appdata\\local\\programs\\python\\python38\\lib\\site-packages (from jupyter-server~=1.16->jupyterlab) (7.2.1)\n",
      "Requirement already satisfied: pywin32>=1.0 in c:\\users\\91637\\appdata\\local\\programs\\python\\python38\\lib\\site-packages (from jupyter-core->jupyterlab) (304)\n",
      "Requirement already satisfied: jsonschema>=3.0.1 in c:\\users\\91637\\appdata\\local\\programs\\python\\python38\\lib\\site-packages (from jupyterlab-server~=2.10->jupyterlab) (4.16.0)\n",
      "Requirement already satisfied: importlib-metadata>=4.8.3 in c:\\users\\91637\\appdata\\local\\programs\\python\\python38\\lib\\site-packages (from jupyterlab-server~=2.10->jupyterlab) (4.13.0)\n",
      "Requirement already satisfied: babel in c:\\users\\91637\\appdata\\local\\programs\\python\\python38\\lib\\site-packages (from jupyterlab-server~=2.10->jupyterlab) (2.10.3)\n",
      "Requirement already satisfied: requests in c:\\users\\91637\\appdata\\local\\programs\\python\\python38\\lib\\site-packages (from jupyterlab-server~=2.10->jupyterlab) (2.28.1)\n",
      "Requirement already satisfied: json5 in c:\\users\\91637\\appdata\\local\\programs\\python\\python38\\lib\\site-packages (from jupyterlab-server~=2.10->jupyterlab) (0.9.10)\n",
      "Requirement already satisfied: ipython-genutils in c:\\users\\91637\\appdata\\local\\programs\\python\\python38\\lib\\site-packages (from notebook<7->jupyterlab) (0.2.0)\n",
      "Requirement already satisfied: nest-asyncio>=1.5 in c:\\users\\91637\\appdata\\local\\programs\\python\\python38\\lib\\site-packages (from notebook<7->jupyterlab) (1.5.6)\n",
      "Requirement already satisfied: ipykernel in c:\\users\\91637\\appdata\\local\\programs\\python\\python38\\lib\\site-packages (from notebook<7->jupyterlab) (6.16.0)\n",
      "Requirement already satisfied: notebook-shim>=0.1.0 in c:\\users\\91637\\appdata\\local\\programs\\python\\python38\\lib\\site-packages (from nbclassic->jupyterlab) (0.1.0)\n",
      "Requirement already satisfied: pickleshare in c:\\users\\91637\\appdata\\local\\programs\\python\\python38\\lib\\site-packages (from ipython->jupyterlab) (0.7.5)\n",
      "Requirement already satisfied: backcall in c:\\users\\91637\\appdata\\local\\programs\\python\\python38\\lib\\site-packages (from ipython->jupyterlab) (0.2.0)\n",
      "Requirement already satisfied: jedi>=0.16 in c:\\users\\91637\\appdata\\local\\programs\\python\\python38\\lib\\site-packages (from ipython->jupyterlab) (0.18.1)\n",
      "Requirement already satisfied: decorator in c:\\users\\91637\\appdata\\local\\programs\\python\\python38\\lib\\site-packages (from ipython->jupyterlab) (5.1.1)\n",
      "Requirement already satisfied: stack-data in c:\\users\\91637\\appdata\\local\\programs\\python\\python38\\lib\\site-packages (from ipython->jupyterlab) (0.5.1)\n",
      "Requirement already satisfied: matplotlib-inline in c:\\users\\91637\\appdata\\local\\programs\\python\\python38\\lib\\site-packages (from ipython->jupyterlab) (0.1.6)\n",
      "Requirement already satisfied: pygments>=2.4.0 in c:\\users\\91637\\appdata\\local\\programs\\python\\python38\\lib\\site-packages (from ipython->jupyterlab) (2.13.0)\n",
      "Requirement already satisfied: prompt-toolkit<3.1.0,>3.0.1 in c:\\users\\91637\\appdata\\local\\programs\\python\\python38\\lib\\site-packages (from ipython->jupyterlab) (3.0.31)\n",
      "Requirement already satisfied: colorama in c:\\users\\91637\\appdata\\local\\programs\\python\\python38\\lib\\site-packages (from ipython->jupyterlab) (0.4.5)\n",
      "Requirement already satisfied: pyparsing!=3.0.5,>=2.0.2 in c:\\users\\91637\\appdata\\local\\programs\\python\\python38\\lib\\site-packages (from packaging->jupyterlab) (3.0.9)\n",
      "Requirement already satisfied: idna>=2.8 in c:\\users\\91637\\appdata\\local\\programs\\python\\python38\\lib\\site-packages (from anyio<4,>=3.1.0->jupyter-server~=1.16->jupyterlab) (3.4)\n",
      "Requirement already satisfied: sniffio>=1.1 in c:\\users\\91637\\appdata\\local\\programs\\python\\python38\\lib\\site-packages (from anyio<4,>=3.1.0->jupyter-server~=1.16->jupyterlab) (1.3.0)\n",
      "Requirement already satisfied: zipp>=0.5 in c:\\users\\91637\\appdata\\local\\programs\\python\\python38\\lib\\site-packages (from importlib-metadata>=4.8.3->jupyterlab-server~=2.10->jupyterlab) (3.9.0)\n",
      "Requirement already satisfied: parso<0.9.0,>=0.8.0 in c:\\users\\91637\\appdata\\local\\programs\\python\\python38\\lib\\site-packages (from jedi>=0.16->ipython->jupyterlab) (0.8.3)\n",
      "Requirement already satisfied: pkgutil-resolve-name>=1.3.10 in c:\\users\\91637\\appdata\\local\\programs\\python\\python38\\lib\\site-packages (from jsonschema>=3.0.1->jupyterlab-server~=2.10->jupyterlab) (1.3.10)\n",
      "Requirement already satisfied: importlib-resources>=1.4.0 in c:\\users\\91637\\appdata\\local\\programs\\python\\python38\\lib\\site-packages (from jsonschema>=3.0.1->jupyterlab-server~=2.10->jupyterlab) (5.10.0)\n",
      "Requirement already satisfied: pyrsistent!=0.17.0,!=0.17.1,!=0.17.2,>=0.14.0 in c:\\users\\91637\\appdata\\local\\programs\\python\\python38\\lib\\site-packages (from jsonschema>=3.0.1->jupyterlab-server~=2.10->jupyterlab) (0.18.1)\n",
      "Requirement already satisfied: attrs>=17.4.0 in c:\\users\\91637\\appdata\\local\\programs\\python\\python38\\lib\\site-packages (from jsonschema>=3.0.1->jupyterlab-server~=2.10->jupyterlab) (22.1.0)\n",
      "Requirement already satisfied: entrypoints in c:\\users\\91637\\appdata\\local\\programs\\python\\python38\\lib\\site-packages (from jupyter-client>=6.1.12->jupyter-server~=1.16->jupyterlab) (0.4)\n",
      "Requirement already satisfied: python-dateutil>=2.8.2 in c:\\users\\91637\\appdata\\local\\programs\\python\\python38\\lib\\site-packages (from jupyter-client>=6.1.12->jupyter-server~=1.16->jupyterlab) (2.8.2)\n",
      "Requirement already satisfied: pandocfilters>=1.4.1 in c:\\users\\91637\\appdata\\local\\programs\\python\\python38\\lib\\site-packages (from nbconvert>=6.4.4->jupyter-server~=1.16->jupyterlab) (1.5.0)\n",
      "Requirement already satisfied: beautifulsoup4 in c:\\users\\91637\\appdata\\local\\programs\\python\\python38\\lib\\site-packages (from nbconvert>=6.4.4->jupyter-server~=1.16->jupyterlab) (4.11.1)\n",
      "Requirement already satisfied: defusedxml in c:\\users\\91637\\appdata\\local\\programs\\python\\python38\\lib\\site-packages (from nbconvert>=6.4.4->jupyter-server~=1.16->jupyterlab) (0.7.1)\n",
      "Requirement already satisfied: jupyterlab-pygments in c:\\users\\91637\\appdata\\roaming\\python\\python38\\site-packages (from nbconvert>=6.4.4->jupyter-server~=1.16->jupyterlab) (0.1.2)\n",
      "Requirement already satisfied: nbclient>=0.5.0 in c:\\users\\91637\\appdata\\roaming\\python\\python38\\site-packages (from nbconvert>=6.4.4->jupyter-server~=1.16->jupyterlab) (0.5.4)\n",
      "Requirement already satisfied: mistune<3,>=2.0.3 in c:\\users\\91637\\appdata\\local\\programs\\python\\python38\\lib\\site-packages (from nbconvert>=6.4.4->jupyter-server~=1.16->jupyterlab) (2.0.4)\n",
      "Requirement already satisfied: tinycss2 in c:\\users\\91637\\appdata\\local\\programs\\python\\python38\\lib\\site-packages (from nbconvert>=6.4.4->jupyter-server~=1.16->jupyterlab) (1.1.1)\n",
      "Requirement already satisfied: bleach in c:\\users\\91637\\appdata\\local\\programs\\python\\python38\\lib\\site-packages (from nbconvert>=6.4.4->jupyter-server~=1.16->jupyterlab) (5.0.1)\n",
      "Requirement already satisfied: fastjsonschema in c:\\users\\91637\\appdata\\local\\programs\\python\\python38\\lib\\site-packages (from nbformat>=5.2.0->jupyter-server~=1.16->jupyterlab) (2.16.2)\n",
      "Requirement already satisfied: wcwidth in c:\\users\\91637\\appdata\\local\\programs\\python\\python38\\lib\\site-packages (from prompt-toolkit<3.1.0,>3.0.1->ipython->jupyterlab) (0.2.5)\n",
      "Requirement already satisfied: argon2-cffi-bindings in c:\\users\\91637\\appdata\\local\\programs\\python\\python38\\lib\\site-packages (from argon2-cffi->jupyter-server~=1.16->jupyterlab) (21.2.0)\n",
      "Requirement already satisfied: pytz>=2015.7 in c:\\users\\91637\\appdata\\local\\programs\\python\\python38\\lib\\site-packages (from babel->jupyterlab-server~=2.10->jupyterlab) (2022.4)\n",
      "Requirement already satisfied: psutil in c:\\users\\91637\\appdata\\local\\programs\\python\\python38\\lib\\site-packages (from ipykernel->notebook<7->jupyterlab) (5.9.2)\n",
      "Requirement already satisfied: debugpy>=1.0 in c:\\users\\91637\\appdata\\local\\programs\\python\\python38\\lib\\site-packages (from ipykernel->notebook<7->jupyterlab) (1.6.3)\n",
      "Requirement already satisfied: charset-normalizer<3,>=2 in c:\\users\\91637\\appdata\\local\\programs\\python\\python38\\lib\\site-packages (from requests->jupyterlab-server~=2.10->jupyterlab) (2.1.1)\n",
      "Requirement already satisfied: urllib3<1.27,>=1.21.1 in c:\\users\\91637\\appdata\\local\\programs\\python\\python38\\lib\\site-packages (from requests->jupyterlab-server~=2.10->jupyterlab) (1.26.12)\n",
      "Requirement already satisfied: certifi>=2017.4.17 in c:\\users\\91637\\appdata\\local\\programs\\python\\python38\\lib\\site-packages (from requests->jupyterlab-server~=2.10->jupyterlab) (2022.9.24)\n",
      "Requirement already satisfied: pure-eval in c:\\users\\91637\\appdata\\local\\programs\\python\\python38\\lib\\site-packages (from stack-data->ipython->jupyterlab) (0.2.2)\n",
      "Requirement already satisfied: asttokens in c:\\users\\91637\\appdata\\local\\programs\\python\\python38\\lib\\site-packages (from stack-data->ipython->jupyterlab) (2.0.8)\n",
      "Requirement already satisfied: executing in c:\\users\\91637\\appdata\\local\\programs\\python\\python38\\lib\\site-packages (from stack-data->ipython->jupyterlab) (1.1.1)\n",
      "Requirement already satisfied: six>=1.5 in c:\\users\\91637\\appdata\\local\\programs\\python\\python38\\lib\\site-packages (from python-dateutil>=2.8.2->jupyter-client>=6.1.12->jupyter-server~=1.16->jupyterlab) (1.16.0)\n",
      "Requirement already satisfied: cffi>=1.0.1 in c:\\users\\91637\\appdata\\local\\programs\\python\\python38\\lib\\site-packages (from argon2-cffi-bindings->argon2-cffi->jupyter-server~=1.16->jupyterlab) (1.15.1)\n",
      "Requirement already satisfied: soupsieve>1.2 in c:\\users\\91637\\appdata\\local\\programs\\python\\python38\\lib\\site-packages (from beautifulsoup4->nbconvert>=6.4.4->jupyter-server~=1.16->jupyterlab) (2.3.2.post1)\n",
      "Requirement already satisfied: webencodings in c:\\users\\91637\\appdata\\local\\programs\\python\\python38\\lib\\site-packages (from bleach->nbconvert>=6.4.4->jupyter-server~=1.16->jupyterlab) (0.5.1)\n",
      "Requirement already satisfied: pycparser in c:\\users\\91637\\appdata\\local\\programs\\python\\python38\\lib\\site-packages (from cffi>=1.0.1->argon2-cffi-bindings->argon2-cffi->jupyter-server~=1.16->jupyterlab) (2.21)\n",
      "Note: you may need to restart the kernel to use updated packages.\n"
     ]
    },
    {
     "name": "stderr",
     "output_type": "stream",
     "text": [
      "\n",
      "[notice] A new release of pip available: 22.2.2 -> 23.1.2\n",
      "[notice] To update, run: python.exe -m pip install --upgrade pip\n"
     ]
    }
   ],
   "source": [
    "#| export\n",
    "%pip install jupyterlab"
   ]
  },
  {
   "cell_type": "markdown",
   "id": "f718331d",
   "metadata": {},
   "source": [
    "### Launch Jupyter Notebook <a id='step-4-launch-jupyter-notebook'></a>\n",
    "> Launch Jupyter Notebook by running the following command in a terminal or command prompt:"
   ]
  },
  {
   "cell_type": "code",
   "execution_count": null,
   "id": "5c56c6e9",
   "metadata": {},
   "outputs": [],
   "source": [
    "#| export\n",
    "!jupyter lab"
   ]
  },
  {
   "cell_type": "markdown",
   "id": "e1e470a7",
   "metadata": {},
   "source": [
    "## Installation and Setup of nbdev, Quarto\n",
    "\n",
    "> - [Install nbdev](#step-1-install-nbdev)\n",
    "> - [Set up nbdev](#step-2-set-up-nbdev)\n",
    "> - [Install Quarto](#step-3-install-quarto)\n",
    "> - [Set up Quarto with JupyterLab](#step-4-set-up-quarto-with-jupyterlab)\n"
   ]
  },
  {
   "cell_type": "markdown",
   "id": "0e873c1f",
   "metadata": {},
   "source": [
    "### Install nbdev <a id='step-1-install-nbdev'></a>\n",
    "> To begin, We start by installing nbdev, which is a Python library that provides a framework for developing libraries and documentation using Jupyter notebooks."
   ]
  },
  {
   "cell_type": "code",
   "execution_count": null,
   "id": "753fe8d6",
   "metadata": {},
   "outputs": [],
   "source": [
    "#| export\n",
    "pip install nbdev"
   ]
  },
  {
   "cell_type": "markdown",
   "id": "51801e8b",
   "metadata": {},
   "source": [
    "### Set up nbdev <a id='step-2-set-up-nbdev'></a>\n",
    "> After installing nbdev, we need to set it up for our project. This involves creating the necessary folder structure and configuration files."
   ]
  },
  {
   "cell_type": "code",
   "execution_count": null,
   "id": "1e08d81a",
   "metadata": {},
   "outputs": [],
   "source": [
    "#| export\n",
    "nbdev_new"
   ]
  },
  {
   "cell_type": "markdown",
   "id": "ed382d1d",
   "metadata": {},
   "source": [
    "> - After installing nbdev, we need to set it up for our project.\n",
    "\n",
    "> - The !nbdev_new command creates the necessary folder structure and configuration files for nbdev. It sets up the project with the required directories, such as docs, nbs, tests, and your_project_name.\n",
    "\n",
    "> - Make sure to replace your_project_name with the desired name for your nbdev project."
   ]
  },
  {
   "cell_type": "markdown",
   "id": "535d91bd",
   "metadata": {},
   "source": [
    "### Install Quarto <a id='step-3-install-quarto'></a>\n",
    "> Quarto is a powerful publishing system for creating scientific and technical documents from Jupyter notebooks. Let's install it now."
   ]
  },
  {
   "cell_type": "code",
   "execution_count": null,
   "id": "5aa28bf9",
   "metadata": {},
   "outputs": [],
   "source": [
    "#| export\n",
    "pip install quarto"
   ]
  },
  {
   "cell_type": "markdown",
   "id": "d2fc9e05",
   "metadata": {},
   "source": [
    "### Set up Quarto with JupyterLab <a id='step-4-set-up-quarto-with-jupyterlab'></a>\n",
    "> To use Quarto with JupyterLab, we need to install the JupyterLab extension for Quarto. This extension integrates Quarto into JupyterLab, allowing you to create and publish documents using Quarto's features."
   ]
  },
  {
   "cell_type": "code",
   "execution_count": null,
   "id": "73b285db",
   "metadata": {},
   "outputs": [],
   "source": [
    "#| export\n",
    "quarto install --lab"
   ]
  },
  {
   "cell_type": "markdown",
   "id": "7ce55e42",
   "metadata": {},
   "source": [
    "## Create an Empty GitHub Repo <a id='create-repo'></a>\n",
    "\n",
    "> Before we start working on our nbdev project, we need to create an empty GitHub repository to hold our code and documentation. Follow these steps to create a new GitHub repository:\n",
    ">> 1. Open the [GitHub web interface](https://github.com/new) in your browser and log in to your account.\n",
    ">> 2. Click on the \"+\" icon in the top-right corner and select \"New repository\" from the dropdown menu.\n",
    ">> 3. Enter a name for your repository and an optional description.\n",
    ">> 4. Choose whether you want the repository to be public or private.\n",
    ">> 5. Leave the \"Initialize this repository with a README\" option unchecked.\n",
    ">> 6. Click the \"Create repository\" button to create the empty repository.\n",
    ">> 7. If you still find it difficult, can refer github's [create new repo](https://docs.github.com/en/get-started/quickstart/create-a-repo) page."
   ]
  },
  {
   "cell_type": "markdown",
   "id": "4e832cd2",
   "metadata": {},
   "source": [
    "![If you’re using the web interface, it should look something like this (with your own repository name and descrpition) before you click “Create Repository”:](nbdev-drift_detection_function/nbs/Images/github-create-new-repo.png)"
   ]
  },
  {
   "cell_type": "markdown",
   "id": "0a250dea",
   "metadata": {},
   "source": [
    "## Initialize Your Repo with nbdev <a id='initialize-repo'></a>\n",
    "\n",
    "> Now that we have created the GitHub repository, let's initialize it with nbdev. Follow these steps to initialize your repository:\n",
    ">> 1. Open a terminal or command prompt on your local machine.\n",
    ">> 2. Navigate to the directory where you want to clone the GitHub repository.\n",
    ">> 3. Run the following command to clone the repository:\n"
   ]
  },
  {
   "cell_type": "code",
   "execution_count": null,
   "id": "edd3f474",
   "metadata": {},
   "outputs": [],
   "source": [
    "#| export\n",
    "# Run the following command to clone the repository:\n",
    "git clone <repository_url>"
   ]
  },
  {
   "cell_type": "code",
   "execution_count": null,
   "id": "428e7738",
   "metadata": {},
   "outputs": [],
   "source": [
    "#| export\n",
    "# Change to the directory of your cloned repository:\n",
    "cd <repository_directory>"
   ]
  },
  {
   "cell_type": "code",
   "execution_count": null,
   "id": "35f943e0",
   "metadata": {},
   "outputs": [],
   "source": [
    "#| export\n",
    "# Initialize your repository with nbdev using the following command:\n",
    "nbdev_new <project_name>"
   ]
  },
  {
   "cell_type": "markdown",
   "id": "594ddb8f",
   "metadata": {},
   "source": [
    "> nbdev_new assumes that your package name is the same as your repo name (with - replaced by _). Use the --lib_name option if that isn’t the case."
   ]
  },
  {
   "cell_type": "markdown",
   "id": "39e76cb2",
   "metadata": {},
   "source": [
    "> Double-check your settings.ini file to ensure that it has all of the correct information."
   ]
  },
  {
   "cell_type": "markdown",
   "id": "2ff20ce6",
   "metadata": {},
   "source": [
    "![You have to cross check whether the required packages along with their version is mentioned in the requirements of settings.ini file](nbdev-drift_detection_function/nbs/Images/Settings_ini.png)"
   ]
  },
  {
   "cell_type": "markdown",
   "id": "c6e2ddc4",
   "metadata": {},
   "source": [
    "> Then commit and push your additions to GitHub:"
   ]
  },
  {
   "cell_type": "code",
   "execution_count": null,
   "id": "ca7e7856",
   "metadata": {},
   "outputs": [],
   "source": [
    "git add .\n",
    "git commit -m'Initial commit'\n",
    "git push"
   ]
  },
  {
   "cell_type": "markdown",
   "id": "77d080a1",
   "metadata": {},
   "source": [
    "## Enable GitHub Pages <a id='enable-pages'></a>\n",
    "\n",
    "> To enable GitHub Pages for your repository, follow these steps:\n",
    ">> 1. Go to your repository's \"Settings\" tab.\n",
    ">> 2. Scroll down to the \"GitHub Pages\" section.\n",
    ">> 3. Under \"Source\", select the \"gh-pages\" branch from the dropdown menu.\n",
    ">> 4. Click the \"Save\" button.\n",
    ">> GitHub will build your pages and provide you with a URL where you can access your documentation.\n"
   ]
  },
  {
   "cell_type": "markdown",
   "id": "9be991bc",
   "metadata": {},
   "source": [
    "## Check Out Your Workflows <a id='check-workflows'></a>\n",
    "\n",
    "> nbdev includes predefined workflows for continuous integration (CI) and deploying your documentation to GitHub Pages. The \"CI\" workflow runs tests and linters on your code whenever you push changes to your repository. The \"Deploy to GitHub Pages\" workflow builds and deploys your documentation to GitHub Pages.Let's check out these workflows:\n",
    ">> 1. Open the \"Actions\" tab in your repository on GitHub.\n",
    ">> 2. You will see two workflows: \"CI\" and \"Deploy to GitHub Pages\".\n",
    "\n"
   ]
  },
  {
   "cell_type": "markdown",
   "id": "3266996b",
   "metadata": {},
   "source": [
    "## Check Out Your Docs <a id='check-docs'></a>\n",
    "\n",
    "> Once the \"Deploy to GitHub Pages\" workflow has completed successfully, you can check out your documentation:\n",
    "\n",
    ">> 1. Wait for the \"pages build and deployment\" workflow to complete. You can monitor the progress in the \"Actions\" tab.\n",
    ">> 2. Once the workflow is finished, open your website using the provided URL. This is the URL where your documentation is hosted. You should see your documentation website with the initial content generated by nbdev.\n"
   ]
  },
  {
   "cell_type": "markdown",
   "id": "5c1390be",
   "metadata": {},
   "source": [
    "## Make Your First Edit <a id='first-edit'></a>\n",
    "\n",
    "> Now, let's make our first edit to the documentation and see how it updates.\n",
    "\n",
    ">> 1. Install nbdev's hooks by running the following command in your terminal or command prompt:\n"
   ]
  },
  {
   "cell_type": "code",
   "execution_count": null,
   "id": "10d9ff73",
   "metadata": {},
   "outputs": [],
   "source": [
    "#| export\n",
    "# Run the following command to install nbdev's hooks:\n",
    "nbdev_install_hooks"
   ]
  },
  {
   "cell_type": "code",
   "execution_count": null,
   "id": "9faab691",
   "metadata": {},
   "outputs": [],
   "source": [
    "#| export\n",
    "# Use the nbdev_export command to create Python modules for your notebooks:\n",
    "nbdev_export"
   ]
  },
  {
   "cell_type": "code",
   "execution_count": null,
   "id": "79f6d1e5",
   "metadata": {},
   "outputs": [],
   "source": [
    "#| export\n",
    "# Install your package using pip:\n",
    "pip install -e '.[dev]'"
   ]
  },
  {
   "cell_type": "code",
   "execution_count": null,
   "id": "74b53dae",
   "metadata": {},
   "outputs": [],
   "source": [
    "#| export\n",
    "# Start the preview of your docs using nbdev:\n",
    "nbdev_preview"
   ]
  },
  {
   "cell_type": "markdown",
   "id": "48e937ae",
   "metadata": {},
   "source": [
    "## Edit 00_core.ipynb <a id='edit-core'></a>\n",
    "\n",
    "> Let's now make an edit to the `00_core.ipynb` notebook, which is the main notebook of our library.\n",
    ">> 1. Open the `00_core.ipynb` file in Jupyter Notebook.\n",
    ">> 2. Update the notebook metadata and default export module according to your library's needs.\n",
    ">> 3. Save the notebook and rerun all cells to export the modules. Your changes will be reflected in the generated Python modules and documentation.\n"
   ]
  },
  {
   "cell_type": "markdown",
   "id": "5472a261",
   "metadata": {},
   "source": [
    "## Add Your Own Function <a id='add-function'></a>\n",
    "\n",
    "> Let's add a new function to our library. Follow these steps:\n",
    ">> 1. Add a new code cell in the `00_core.ipynb` notebook.\n",
    ">> 2. Define your function in the code cell.\n",
    ">> 3. Use the `#| export` directive to specify that this function should be exported.\n",
    ">> 4. Save the notebook and rerun all cells to update the modules. Your new function will be available in the generated Python modules and can be imported and used by other users of your library.\n"
   ]
  },
  {
   "cell_type": "markdown",
   "id": "dff30ab1",
   "metadata": {},
   "source": [
    "## Add Examples, Tests, and Docs <a id='add-examples-tests-docs'></a>\n",
    "\n",
    "> It's important to provide examples, tests, and documentation for your library. Follow these steps:\n",
    ">> 1. Add regular code cells below your function's code cell to provide examples of how to use the function.\n",
    ">> 2. Add test cells using assertions or the `fastcore.test` functions to test your function's behavior.\n",
    ">> 3. Include plots, images, or widgets in your examples if desired.\n",
    ">> 4. Save the notebook and rerun all cells to update the modules and documentation. Your examples, tests, and documentation will be included in the generated Python modules and documentation.\n"
   ]
  },
  {
   "cell_type": "markdown",
   "id": "605bd72f",
   "metadata": {},
   "source": [
    "## Prepare Your Changes <a id='prepare-changes'></a>\n",
    "\n",
    "> Before committing your changes, it's a good practice to run the `nbdev_prepare` command in the terminal or command prompt. This command performs several tasks to prepare your repository:\n",
    ">> - Builds the `.py` modules from the notebooks.\n",
    ">> - Runs tests on the notebooks.\n",
    ">> - Cleans the notebooks.\n",
    ">> - Updates the `README.md` file with the contents of the `index.ipynb` notebook.\n",
    ">> Run the following command to prepare your changes:\n"
   ]
  },
  {
   "cell_type": "code",
   "execution_count": null,
   "id": "b0f5d11b",
   "metadata": {},
   "outputs": [],
   "source": [
    "#| export\n",
    "# Run the following command to prepare your changes:\n",
    "nbdev_prepare"
   ]
  },
  {
   "cell_type": "code",
   "execution_count": null,
   "id": "d304028a",
   "metadata": {},
   "outputs": [],
   "source": [
    "#| hide\n",
    "import nbdev; nbdev.nbdev_export()"
   ]
  }
 ],
 "metadata": {
  "kernelspec": {
   "display_name": "python3",
   "language": "python",
   "name": "python3"
  }
 },
 "nbformat": 4,
 "nbformat_minor": 5
}
