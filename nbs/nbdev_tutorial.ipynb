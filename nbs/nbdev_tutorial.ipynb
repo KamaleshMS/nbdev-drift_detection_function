{
 "cells": [
  {
   "cell_type": "code",
   "execution_count": null,
   "id": "8731a1ae",
   "metadata": {},
   "outputs": [],
   "source": [
    "#| hide\n",
    "# to set up auto reaload whenever changes are made in other modules\n",
    "%load_ext autoreload\n",
    "%autoreload 2\n",
    "from nbdev.showdoc import *"
   ]
  },
  {
   "cell_type": "code",
   "execution_count": null,
   "id": "eb788448",
   "metadata": {},
   "outputs": [],
   "source": []
  },
  {
   "cell_type": "markdown",
   "id": "25a54502",
   "metadata": {},
   "source": [
    "# Getting Started with nbdev: A Beginner's Tutorial\n",
    "\n",
    "> Welcome to this tutorial on getting started with nbdev! In this tutorial, we will cover the basics of nbdev, a powerful tool for developing Python libraries in Jupyter notebooks. By the end of this tutorial, you'll have a good understanding of how to create, test, document, and publish your Python library using nbdev.\n",
    "\n",
    "## Table of Contents\n",
    "\n",
    "> - [Installation](#installation)\n",
    "> - [Create an Empty GitHub Repo](#create-repo)\n",
    "> - [Initialize Your Repo with nbdev](#initialize-repo)\n",
    "> - [Enable GitHub Pages](#enable-pages)\n",
    "> - [Check Out Your Workflows](#check-workflows)\n",
    "> - [Check Out Your Docs](#check-docs)\n",
    "> - [Make Your First Edit](#first-edit)\n",
    "> - [Edit 00_core.ipynb](#edit-core)\n",
    "> - [Add Your Own Function](#add-function)\n",
    "> - [Add Examples, Tests, and Docs](#add-examples-tests-docs)\n",
    "> - [Prepare Your Changes](#prepare-changes)\n",
    "> - [Conclusion](#conclusion)\n"
   ]
  },
  {
   "cell_type": "markdown",
   "id": "5f4effb6",
   "metadata": {},
   "source": [
    "## Installation <a id='installation'></a>\n",
    "\n",
    "> To get started with nbdev, you need to install a few prerequisites. Follow these steps to install the required tools and libraries:\n",
    "\n",
    "> - [Install Python](#step-1-install-python)\n",
    "> - [Choose a Python Package Manager](#step-2-choose-a-python-package-manager)\n",
    "> - [Install Jupyter Notebook](#step-3-install-jupyter-notebook)\n",
    "> - [Launch Jupyter Notebook](#step-4-launch-jupyter-notebook)"
   ]
  },
  {
   "cell_type": "markdown",
   "id": "5d920208",
   "metadata": {},
   "source": [
    "### Install Python <a id='step-1-install-python'></a>\n",
    "> - Install Python by visiting the official Python website: [python.org](https://www.python.org/downloads/)."
   ]
  },
  {
   "cell_type": "markdown",
   "id": "0df8c5b6",
   "metadata": {},
   "source": [
    "### A Python package manager: We recommend conda or pip <a id='step-2-choose-a-python-package-manager'></a>\n",
    "> - Choose a Python package manager based on your preferences and requirements."
   ]
  },
  {
   "cell_type": "markdown",
   "id": "c4249cda",
   "metadata": {},
   "source": [
    "### Install Jupyter Notebook <a id='step-3-install-jupyter-notebook'></a>\n",
    "> - Install Jupyter Notebook using the selected package manager:"
   ]
  },
  {
   "cell_type": "markdown",
   "id": "757010ba",
   "metadata": {},
   "source": [
    "> - Code Cell (for conda):\n",
    "\n",
    ">> -  #### conda install -c conda-forge jupyterlab"
   ]
  },
  {
   "cell_type": "markdown",
   "id": "327edd0b",
   "metadata": {},
   "source": [
    "> - \"%\" and \"!\" are magic commands.\n",
    "\n",
    "> - By using %pip as a magic command, you can execute the pip command directly within the notebook. This will install the required packages without generating errors.\n",
    "\n",
    "> - You can also use other magic commands like %cd to change the working directory, %ls to list files in a directory, %mkdir to create a new directory, and so on. These magic commands allow you to mimic terminal commands within a notebook environment.\n",
    "\n",
    "> - If you are using terminal to execute these commands dont use any of the magic commands at the start of the command.\n",
    "\n",
    "> - Code Cell (for pip):"
   ]
  },
  {
   "cell_type": "code",
   "execution_count": null,
   "id": "2b421f10",
   "metadata": {},
   "outputs": [],
   "source": [
    "pip install jupyterlab"
   ]
  },
  {
   "cell_type": "markdown",
   "id": "3158142a",
   "metadata": {},
   "source": [
    "### Launch Jupyter Notebook <a id='step-4-launch-jupyter-notebook'></a>\n",
    "> Launch Jupyter Notebook by running the following command in a terminal or command prompt:"
   ]
  },
  {
   "cell_type": "code",
   "execution_count": null,
   "id": "f386a8f2",
   "metadata": {},
   "outputs": [],
   "source": [
    "jupyter lab"
   ]
  },
  {
   "cell_type": "markdown",
   "id": "2b5b19c1",
   "metadata": {},
   "source": [
    "## Installation and Setup of nbdev, Quarto\n",
    "\n",
    "> - [Install nbdev](#step-1-install-nbdev)\n",
    "> - [Set up nbdev](#step-2-set-up-nbdev)\n",
    "> - [Install Quarto](#step-3-install-quarto)\n",
    "> - [Set up Quarto with JupyterLab](#step-4-set-up-quarto-with-jupyterlab)\n"
   ]
  },
  {
   "cell_type": "markdown",
   "id": "8e470a96",
   "metadata": {},
   "source": [
    "### Install nbdev <a id='step-1-install-nbdev'></a>\n",
    "> - To begin, We start by installing nbdev, which is a Python library that provides a framework for developing libraries and documentation using Jupyter notebooks."
   ]
  },
  {
   "cell_type": "code",
   "execution_count": null,
   "id": "20409465",
   "metadata": {},
   "outputs": [],
   "source": [
    "pip install nbdev"
   ]
  },
  {
   "cell_type": "markdown",
   "id": "2acfa119",
   "metadata": {},
   "source": [
    "### Set up nbdev <a id='step-2-set-up-nbdev'></a>\n",
    "> - After installing nbdev, we need to set it up for our project. This involves creating the necessary folder structure and configuration files."
   ]
  },
  {
   "cell_type": "code",
   "execution_count": null,
   "id": "d9ced089",
   "metadata": {},
   "outputs": [],
   "source": [
    "nbdev_new"
   ]
  },
  {
   "cell_type": "markdown",
   "id": "7769cb5d",
   "metadata": {},
   "source": [
    "> - After installing nbdev, we need to set it up for our project.\n",
    "\n",
    "> - The !nbdev_new command creates the necessary folder structure and configuration files for nbdev. It sets up the project with the required directories, such as docs, nbs, tests, and your_project_name.\n",
    "\n",
    "> - Make sure to replace your_project_name with the desired name for your nbdev project."
   ]
  },
  {
   "cell_type": "markdown",
   "id": "29883305",
   "metadata": {},
   "source": [
    "### Install Quarto <a id='step-3-install-quarto'></a>\n",
    "> - Quarto is a powerful publishing system for creating scientific and technical documents from Jupyter notebooks. Let's install it now."
   ]
  },
  {
   "cell_type": "code",
   "execution_count": null,
   "id": "c2e0dafd",
   "metadata": {},
   "outputs": [],
   "source": [
    "pip install quarto"
   ]
  },
  {
   "cell_type": "markdown",
   "id": "5239af99",
   "metadata": {},
   "source": [
    "### Set up Quarto with JupyterLab <a id='step-4-set-up-quarto-with-jupyterlab'></a>\n",
    "> - To use Quarto with JupyterLab, we need to install the JupyterLab extension for Quarto. \n",
    "\n",
    ">> - This extension integrates Quarto into JupyterLab, allowing you to create and publish documents using Quarto's features."
   ]
  },
  {
   "cell_type": "code",
   "execution_count": null,
   "id": "a9290995",
   "metadata": {},
   "outputs": [],
   "source": [
    "quarto install --lab"
   ]
  },
  {
   "cell_type": "markdown",
   "id": "5d12634a",
   "metadata": {},
   "source": [
    "## Create an Empty GitHub Repo <a id='create-repo'></a>\n",
    "\n",
    "> Before we start working on our nbdev project, we need to create an empty GitHub repository to hold our code and documentation. Follow these steps to create a new GitHub repository:\n",
    "\n",
    ">> - Open the [GitHub web interface](https://github.com/new) in your browser and log in to your account.\n",
    "\n",
    ">> - Click on the \"+\" icon in the top-right corner and select \"New repository\" from the dropdown menu.\n",
    "\n",
    ">> - Enter a name for your repository and an optional description.\n",
    "\n",
    ">> - Choose whether you want the repository to be public or private.\n",
    "\n",
    ">> - Leave the \"Initialize this repository with a README\" option unchecked.\n",
    "\n",
    ">> - Click the \"Create repository\" button to create the empty repository.\n",
    "\n",
    ">> - If you still find it difficult, can refer github's [create new repo](https://docs.github.com/en/get-started/quickstart/create-a-repo) page."
   ]
  },
  {
   "cell_type": "code",
   "execution_count": null,
   "id": "d013d463",
   "metadata": {},
   "outputs": [],
   "source": [
    "![If you’re using the web interface, it should look something like this (with your own repository name and descrpition) before you click “Create Repository”:](nbdev-drift_detection_function/nbs/github-create-new-repo.png)"
   ]
  },
  {
   "cell_type": "markdown",
   "id": "75b22f6c",
   "metadata": {},
   "source": [
    "## Initialize Your Repo with nbdev <a id='initialize-repo'></a>\n",
    "\n",
    "> Now that we have created the GitHub repository, let's initialize it with nbdev. Follow these steps to initialize your repository:\n",
    "\n",
    ">> - Open a terminal or command prompt on your local machine.\n",
    "\n",
    ">> - Navigate to the directory where you want to clone the GitHub repository.\n",
    "\n",
    ">> - Run the following command to clone the repository:\n"
   ]
  },
  {
   "cell_type": "code",
   "execution_count": null,
   "id": "8be5ac32",
   "metadata": {},
   "outputs": [],
   "source": [
    "# Run the following command to clone the repository:\n",
    "git clone <repository_url>"
   ]
  },
  {
   "cell_type": "code",
   "execution_count": null,
   "id": "534c54d2",
   "metadata": {},
   "outputs": [],
   "source": [
    "# Change to the directory of your cloned repository:\n",
    "cd <repository_directory>"
   ]
  },
  {
   "cell_type": "code",
   "execution_count": null,
   "id": "fdde35d6",
   "metadata": {},
   "outputs": [],
   "source": [
    "# Initialize your repository with nbdev using the following command:\n",
    "nbdev_new <project_name>"
   ]
  },
  {
   "cell_type": "markdown",
   "id": "569c6259",
   "metadata": {},
   "source": [
    "> - nbdev_new assumes that your package name is the same as your repo name (with - replaced by _). Use the --lib_name option if that isn’t the case."
   ]
  },
  {
   "cell_type": "markdown",
   "id": "9f47ad41",
   "metadata": {},
   "source": [
    "> -  Double-check your settings.ini file to ensure that it has all of the correct information."
   ]
  },
  {
   "cell_type": "code",
   "execution_count": null,
   "id": "16b7285c",
   "metadata": {},
   "outputs": [],
   "source": [
    "![You have to cross check whether the required packages along with their version is mentioned in the requirements of settings.ini file](nbdev-drift_detection_function/nbs/Settings_ini.png)"
   ]
  },
  {
   "cell_type": "markdown",
   "id": "95f27890",
   "metadata": {},
   "source": [
    "> - Then commit and push your additions to GitHub:"
   ]
  },
  {
   "cell_type": "code",
   "execution_count": null,
   "id": "008e7461",
   "metadata": {},
   "outputs": [],
   "source": [
    "git add .\n",
    "git commit -m'Initial commit'\n",
    "git push"
   ]
  },
  {
   "cell_type": "markdown",
   "id": "5eb68f38",
   "metadata": {},
   "source": [
    "## Enable GitHub Pages <a id='enable-pages'></a>\n",
    "\n",
    "> To enable GitHub Pages for your repository, follow these steps:\n",
    "\n",
    ">> - Go to your repository's \"Settings\" tab.\n",
    "\n",
    ">> - Scroll down to the \"GitHub Pages\" section.\n",
    "\n",
    ">> - Under \"Source\", select the \"gh-pages\" branch from the dropdown menu.\n",
    "\n",
    ">> - Click the \"Save\" button.\n",
    "\n",
    ">> - GitHub will build your pages and provide you with a URL where you can access your documentation.\n"
   ]
  },
  {
   "cell_type": "markdown",
   "id": "65832033",
   "metadata": {},
   "source": [
    "## Check Out Your Workflows <a id='check-workflows'></a>\n",
    "\n",
    "> nbdev includes predefined workflows for continuous integration (CI) and deploying your documentation to GitHub Pages. The \"CI\" workflow runs tests and linters on your code whenever you push changes to your repository. The \"Deploy to GitHub Pages\" workflow builds and deploys your documentation to GitHub Pages.Let's check out these workflows:\n",
    "\n",
    ">> - Open the \"Actions\" tab in your repository on GitHub.\n",
    "\n",
    ">> - You will see two workflows: \"CI\" and \"Deploy to GitHub Pages\".\n",
    "\n"
   ]
  },
  {
   "cell_type": "markdown",
   "id": "ff6463fe",
   "metadata": {},
   "source": [
    "## Check Out Your Docs <a id='check-docs'></a>\n",
    "\n",
    "> Once the \"Deploy to GitHub Pages\" workflow has completed successfully, you can check out your documentation:\n",
    "\n",
    ">> - Wait for the \"pages build and deployment\" workflow to complete. You can monitor the progress in the \"Actions\" tab.\n",
    "\n",
    ">> - Once the workflow is finished, open your website using the provided URL. This is the URL where your documentation is hosted. You should see your documentation website with the initial content generated by nbdev.\n"
   ]
  },
  {
   "cell_type": "markdown",
   "id": "5f704eab",
   "metadata": {},
   "source": [
    "## Make Your First Edit <a id='first-edit'></a>\n",
    "\n",
    "> Now, let's make our first edit to the documentation and see how it updates.\n",
    "\n",
    ">> - Install nbdev's hooks by running the following command in your terminal or command prompt:\n"
   ]
  },
  {
   "cell_type": "code",
   "execution_count": null,
   "id": "011edf35",
   "metadata": {},
   "outputs": [],
   "source": [
    "# Run the following command to install nbdev's hooks:\n",
    "nbdev_install_hooks"
   ]
  },
  {
   "cell_type": "code",
   "execution_count": null,
   "id": "8cc51ec2",
   "metadata": {},
   "outputs": [],
   "source": [
    "# Use the nbdev_export command to create Python modules for your notebooks:\n",
    "nbdev_export"
   ]
  },
  {
   "cell_type": "code",
   "execution_count": null,
   "id": "ac44a6dd",
   "metadata": {},
   "outputs": [],
   "source": [
    "# Install your package using pip:\n",
    "pip install -e '.[dev]'"
   ]
  },
  {
   "cell_type": "code",
   "execution_count": null,
   "id": "6d10e4b7",
   "metadata": {},
   "outputs": [],
   "source": [
    "# Start the preview of your docs using nbdev:\n",
    "nbdev_preview"
   ]
  },
  {
   "cell_type": "markdown",
   "id": "fb1d0e06",
   "metadata": {},
   "source": [
    "## Edit 00_core.ipynb <a id='edit-core'></a>\n",
    "\n",
    "> Let's now make an edit to the `00_core.ipynb` notebook, which is the main notebook of our library.\n",
    "\n",
    ">> - Open the `00_core.ipynb` file in Jupyter Notebook.\n",
    "\n",
    ">> - Update the notebook metadata and default export module according to your library's needs.\n",
    "\n",
    ">> - Save the notebook and rerun all cells to export the modules. Your changes will be reflected in the generated Python modules and documentation.\n"
   ]
  },
  {
   "cell_type": "markdown",
   "id": "2a6ab19c",
   "metadata": {},
   "source": [
    "## Add Your Own Function <a id='add-function'></a>\n",
    "\n",
    "> Let's add a new function to our library. Follow these steps:\n",
    "\n",
    ">> - Add a new code cell in the `00_core.ipynb` notebook.\n",
    "\n",
    ">> - Define your function in the code cell.\n",
    "\n",
    ">> - Use the `#| export` directive to specify that this function should be exported.\n",
    "\n",
    ">> - Save the notebook and rerun all cells to update the modules. Your new function will be available in the generated Python modules and can be imported and used by other users of your library.\n"
   ]
  },
  {
   "cell_type": "markdown",
   "id": "80c24e42",
   "metadata": {},
   "source": [
    "## Add Examples, Tests, and Docs <a id='add-examples-tests-docs'></a>\n",
    "\n",
    "> It's important to provide examples, tests, and documentation for your library. Follow these steps:\n",
    "\n",
    ">> - Add regular code cells below your function's code cell to provide examples of how to use the function.\n",
    "\n",
    ">> - Add test cells using assertions or the `fastcore.test` functions to test your function's behavior.\n",
    "\n",
    ">> - Include plots, images, or widgets in your examples if desired.\n",
    "\n",
    ">> - Save the notebook and rerun all cells to update the modules and documentation. Your examples, tests, and documentation will be included in the generated Python modules and documentation.\n"
   ]
  },
  {
   "cell_type": "markdown",
   "id": "e0253770",
   "metadata": {},
   "source": [
    "## Prepare Your Changes <a id='prepare-changes'></a>\n",
    "\n",
    "> Before committing your changes, it's a good practice to run the `nbdev_prepare` command in the terminal or command prompt. This command performs several tasks to prepare your repository:\n",
    "\n",
    ">> - Builds the `.py` modules from the notebooks.\n",
    "\n",
    ">> - Runs tests on the notebooks.\n",
    "\n",
    ">> - Cleans the notebooks.\n",
    "\n",
    ">> - Updates the `README.md` file with the contents of the `index.ipynb` notebook.\n",
    "\n",
    ">> Run the following command to prepare your changes:\n"
   ]
  },
  {
   "cell_type": "code",
   "execution_count": null,
   "id": "4724edfc",
   "metadata": {},
   "outputs": [],
   "source": [
    "# Run the following command to prepare your changes:\n",
    "nbdev_prepare"
   ]
  },
  {
   "cell_type": "code",
   "execution_count": null,
   "id": "27006269",
   "metadata": {},
   "outputs": [],
   "source": [
    "#| hide\n",
    "import nbdev; nbdev.nbdev_export()"
   ]
  }
 ],
 "metadata": {
  "kernelspec": {
   "display_name": "python3",
   "language": "python",
   "name": "python3"
  }
 },
 "nbformat": 4,
 "nbformat_minor": 5
}
